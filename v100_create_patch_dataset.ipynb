{
 "cells": [
  {
   "cell_type": "markdown",
   "metadata": {},
   "source": [
    "### Create multi-scaled patch dataset"
   ]
  },
  {
   "cell_type": "code",
   "execution_count": 1,
   "metadata": {},
   "outputs": [],
   "source": [
    "import os\n",
    "import utils.data as DATA"
   ]
  },
  {
   "cell_type": "code",
   "execution_count": 2,
   "metadata": {},
   "outputs": [],
   "source": [
    "base_dir = './Data/austin'\n",
    "data_dir = 'human' # 'campus', 'scene', 'human'\n",
    "\n",
    "psz_low = 13 # patch size at the lowest resolution\n",
    "psz_final = 128 # final patch size\n",
    "down_factors = [1, 2, 4, 6, 8, 10]\n",
    "iou_range = [(0.7, 1.0), (0.5, 0.7), (0.3, 0.5)]\n",
    "n_max_corners = 50\n",
    "\n",
    "n_triplet_samples = 1000000\n",
    "n_matched_pairs   =   50000\n",
    "n_query_per_group =       2"
   ]
  },
  {
   "cell_type": "code",
   "execution_count": 3,
   "metadata": {},
   "outputs": [],
   "source": [
    "patch_dir = os.path.join(base_dir, data_dir + '_patch')\n",
    "if not os.path.exists(patch_dir):\n",
    "    os.makedirs(patch_dir)"
   ]
  },
  {
   "cell_type": "markdown",
   "metadata": {},
   "source": [
    "#### create multi-scaled patch dataset"
   ]
  },
  {
   "cell_type": "code",
   "execution_count": 4,
   "metadata": {},
   "outputs": [
    {
     "name": "stderr",
     "output_type": "stream",
     "text": [
      "[1/197] Extract patch: 100%|██████████| 50/50 [00:02<00:00, 20.93it/s]\n",
      "[2/197] Extract patch: 100%|██████████| 50/50 [00:02<00:00, 20.19it/s]\n",
      "[3/197] Extract patch: 100%|██████████| 50/50 [00:02<00:00, 19.75it/s]\n",
      "[4/197] Extract patch: 100%|██████████| 50/50 [00:03<00:00, 15.02it/s]\n",
      "[5/197] Extract patch: 100%|██████████| 50/50 [00:02<00:00, 18.94it/s]\n",
      "[6/197] Extract patch: 100%|██████████| 50/50 [00:02<00:00, 20.80it/s]\n",
      "[7/197] Extract patch: 100%|██████████| 50/50 [00:02<00:00, 21.37it/s]\n",
      "[8/197] Extract patch: 100%|██████████| 50/50 [00:02<00:00, 21.71it/s]\n",
      "[9/197] Extract patch: 100%|██████████| 50/50 [00:02<00:00, 21.47it/s]\n",
      "[10/197] Extract patch: 100%|██████████| 50/50 [00:02<00:00, 16.91it/s]\n",
      "[11/197] Extract patch: 100%|██████████| 50/50 [00:02<00:00, 20.86it/s]\n",
      "[12/197] Extract patch: 100%|██████████| 50/50 [00:02<00:00, 19.34it/s]\n",
      "[13/197] Extract patch: 100%|██████████| 50/50 [00:02<00:00, 20.39it/s]\n",
      "[14/197] Extract patch: 100%|██████████| 50/50 [00:02<00:00, 20.49it/s]\n",
      "[15/197] Extract patch: 100%|██████████| 50/50 [00:02<00:00, 19.90it/s]\n",
      "[16/197] Extract patch: 100%|██████████| 50/50 [00:02<00:00, 21.49it/s]\n",
      "[17/197] Extract patch: 100%|██████████| 50/50 [00:02<00:00, 17.72it/s]\n",
      "[18/197] Extract patch: 100%|██████████| 50/50 [00:03<00:00, 16.61it/s]\n",
      "[19/197] Extract patch: 100%|██████████| 50/50 [00:02<00:00, 18.99it/s]\n",
      "[20/197] Extract patch: 100%|██████████| 50/50 [00:02<00:00, 18.86it/s]\n",
      "[21/197] Extract patch: 100%|██████████| 50/50 [00:02<00:00, 20.21it/s]\n",
      "[22/197] Extract patch: 100%|██████████| 50/50 [00:02<00:00, 17.38it/s]\n",
      "[23/197] Extract patch: 100%|██████████| 50/50 [00:02<00:00, 17.72it/s]\n",
      "[24/197] Extract patch: 100%|██████████| 50/50 [00:02<00:00, 20.78it/s]\n",
      "[25/197] Extract patch: 100%|██████████| 50/50 [00:02<00:00, 21.01it/s]\n",
      "[26/197] Extract patch: 100%|██████████| 50/50 [00:02<00:00, 21.36it/s]\n",
      "[27/197] Extract patch: 100%|██████████| 50/50 [00:02<00:00, 18.90it/s]\n",
      "[28/197] Extract patch: 100%|██████████| 50/50 [00:02<00:00, 20.50it/s]\n",
      "[29/197] Extract patch: 100%|██████████| 50/50 [00:02<00:00, 18.61it/s]\n",
      "[30/197] Extract patch: 100%|██████████| 50/50 [00:02<00:00, 19.35it/s]\n",
      "[31/197] Extract patch: 100%|██████████| 50/50 [00:02<00:00, 18.43it/s]\n",
      "[32/197] Extract patch: 100%|██████████| 50/50 [00:02<00:00, 18.39it/s]\n",
      "[33/197] Extract patch: 100%|██████████| 50/50 [00:02<00:00, 16.84it/s]\n",
      "[34/197] Extract patch: 100%|██████████| 50/50 [00:02<00:00, 18.22it/s]\n",
      "[35/197] Extract patch: 100%|██████████| 50/50 [00:02<00:00, 18.05it/s]\n",
      "[36/197] Extract patch: 100%|██████████| 50/50 [00:02<00:00, 17.93it/s]\n",
      "[37/197] Extract patch: 100%|██████████| 50/50 [00:02<00:00, 17.50it/s]\n",
      "[38/197] Extract patch: 100%|██████████| 50/50 [00:02<00:00, 18.64it/s]\n",
      "[39/197] Extract patch: 100%|██████████| 50/50 [00:02<00:00, 20.25it/s]\n",
      "[40/197] Extract patch: 100%|██████████| 50/50 [00:02<00:00, 18.01it/s]\n",
      "[41/197] Extract patch: 100%|██████████| 50/50 [00:02<00:00, 19.62it/s]\n",
      "[42/197] Extract patch: 100%|██████████| 50/50 [00:02<00:00, 17.59it/s]\n",
      "[43/197] Extract patch: 100%|██████████| 50/50 [00:02<00:00, 20.42it/s]\n",
      "[44/197] Extract patch: 100%|██████████| 50/50 [00:02<00:00, 16.98it/s]\n",
      "[45/197] Extract patch: 100%|██████████| 50/50 [00:02<00:00, 19.13it/s]\n",
      "[46/197] Extract patch: 100%|██████████| 50/50 [00:02<00:00, 18.84it/s]\n",
      "[47/197] Extract patch: 100%|██████████| 50/50 [00:02<00:00, 18.47it/s]\n",
      "[48/197] Extract patch: 100%|██████████| 50/50 [00:02<00:00, 18.15it/s]\n",
      "[49/197] Extract patch: 100%|██████████| 50/50 [00:02<00:00, 17.91it/s]\n",
      "[50/197] Extract patch: 100%|██████████| 50/50 [00:03<00:00, 16.45it/s]\n",
      "[51/197] Extract patch: 100%|██████████| 50/50 [00:02<00:00, 19.95it/s]\n",
      "[52/197] Extract patch: 100%|██████████| 50/50 [00:02<00:00, 20.72it/s]\n",
      "[53/197] Extract patch: 100%|██████████| 50/50 [00:02<00:00, 18.84it/s]\n",
      "[54/197] Extract patch: 100%|██████████| 50/50 [00:02<00:00, 18.96it/s]\n",
      "[55/197] Extract patch: 100%|██████████| 50/50 [00:02<00:00, 18.88it/s]\n",
      "[56/197] Extract patch: 100%|██████████| 50/50 [00:02<00:00, 20.17it/s]\n",
      "[57/197] Extract patch: 100%|██████████| 50/50 [00:03<00:00, 17.99it/s]\n",
      "[58/197] Extract patch: 100%|██████████| 50/50 [00:02<00:00, 20.03it/s]\n",
      "[59/197] Extract patch: 100%|██████████| 50/50 [00:02<00:00, 20.42it/s]\n",
      "[60/197] Extract patch: 100%|██████████| 50/50 [00:02<00:00, 21.00it/s]\n",
      "[61/197] Extract patch: 100%|██████████| 50/50 [00:02<00:00, 19.30it/s]\n",
      "[62/197] Extract patch: 100%|██████████| 50/50 [00:02<00:00, 17.42it/s]\n",
      "[63/197] Extract patch: 100%|██████████| 50/50 [00:02<00:00, 19.66it/s]\n",
      "[64/197] Extract patch: 100%|██████████| 50/50 [00:02<00:00, 17.68it/s]\n",
      "[65/197] Extract patch: 100%|██████████| 50/50 [00:02<00:00, 17.06it/s]\n",
      "[66/197] Extract patch: 100%|██████████| 50/50 [00:02<00:00, 18.84it/s]\n",
      "[67/197] Extract patch: 100%|██████████| 50/50 [00:02<00:00, 20.65it/s]\n",
      "[68/197] Extract patch: 100%|██████████| 50/50 [00:02<00:00, 19.31it/s]\n",
      "[69/197] Extract patch: 100%|██████████| 50/50 [00:02<00:00, 18.01it/s]\n",
      "[70/197] Extract patch: 100%|██████████| 50/50 [00:02<00:00, 22.03it/s]\n",
      "[71/197] Extract patch: 100%|██████████| 50/50 [00:02<00:00, 16.98it/s]\n",
      "[72/197] Extract patch: 100%|██████████| 50/50 [00:02<00:00, 17.12it/s]\n",
      "[73/197] Extract patch: 100%|██████████| 50/50 [00:02<00:00, 19.91it/s]\n",
      "[74/197] Extract patch: 100%|██████████| 50/50 [00:02<00:00, 17.91it/s]\n",
      "[75/197] Extract patch: 100%|██████████| 50/50 [00:02<00:00, 17.52it/s]\n",
      "[76/197] Extract patch: 100%|██████████| 50/50 [00:02<00:00, 18.72it/s]\n",
      "[77/197] Extract patch: 100%|██████████| 50/50 [00:02<00:00, 18.91it/s]\n",
      "[78/197] Extract patch: 100%|██████████| 50/50 [00:02<00:00, 17.54it/s]\n",
      "[79/197] Extract patch: 100%|██████████| 50/50 [00:02<00:00, 17.30it/s]\n",
      "[80/197] Extract patch: 100%|██████████| 50/50 [00:02<00:00, 22.12it/s]\n",
      "[81/197] Extract patch: 100%|██████████| 50/50 [00:02<00:00, 19.41it/s]\n",
      "[82/197] Extract patch: 100%|██████████| 50/50 [00:02<00:00, 18.09it/s]\n",
      "[83/197] Extract patch: 100%|██████████| 50/50 [00:02<00:00, 18.27it/s]\n",
      "[84/197] Extract patch: 100%|██████████| 50/50 [00:02<00:00, 20.97it/s]\n",
      "[85/197] Extract patch: 100%|██████████| 50/50 [00:02<00:00, 18.25it/s]\n",
      "[86/197] Extract patch: 100%|██████████| 50/50 [00:03<00:00, 16.84it/s]\n",
      "[87/197] Extract patch: 100%|██████████| 50/50 [00:02<00:00, 18.90it/s]\n",
      "[88/197] Extract patch: 100%|██████████| 50/50 [00:02<00:00, 19.53it/s]\n",
      "[89/197] Extract patch: 100%|██████████| 50/50 [00:02<00:00, 18.63it/s]\n",
      "[90/197] Extract patch: 100%|██████████| 50/50 [00:03<00:00, 15.39it/s]\n",
      "[91/197] Extract patch: 100%|██████████| 50/50 [00:02<00:00, 19.43it/s]\n",
      "[92/197] Extract patch: 100%|██████████| 50/50 [00:02<00:00, 20.43it/s]\n",
      "[93/197] Extract patch: 100%|██████████| 50/50 [00:02<00:00, 18.14it/s]\n",
      "[94/197] Extract patch: 100%|██████████| 50/50 [00:02<00:00, 17.62it/s]\n",
      "[95/197] Extract patch: 100%|██████████| 50/50 [00:02<00:00, 19.63it/s]\n",
      "[96/197] Extract patch: 100%|██████████| 50/50 [00:02<00:00, 19.00it/s]\n",
      "[97/197] Extract patch: 100%|██████████| 50/50 [00:03<00:00, 16.54it/s]\n",
      "[98/197] Extract patch: 100%|██████████| 50/50 [00:02<00:00, 18.47it/s]\n",
      "[99/197] Extract patch: 100%|██████████| 50/50 [00:02<00:00, 19.57it/s]\n",
      "[100/197] Extract patch: 100%|██████████| 50/50 [00:02<00:00, 19.76it/s]\n",
      "[101/197] Extract patch: 100%|██████████| 50/50 [00:02<00:00, 17.30it/s]\n",
      "[102/197] Extract patch: 100%|██████████| 50/50 [00:02<00:00, 20.17it/s]\n",
      "[103/197] Extract patch: 100%|██████████| 50/50 [00:02<00:00, 17.98it/s]\n",
      "[104/197] Extract patch: 100%|██████████| 50/50 [00:02<00:00, 18.44it/s]\n",
      "[105/197] Extract patch: 100%|██████████| 50/50 [00:02<00:00, 18.13it/s]\n",
      "[106/197] Extract patch: 100%|██████████| 50/50 [00:02<00:00, 19.01it/s]\n",
      "[107/197] Extract patch: 100%|██████████| 50/50 [00:02<00:00, 21.70it/s]\n",
      "[108/197] Extract patch: 100%|██████████| 50/50 [00:03<00:00, 19.87it/s]\n",
      "[109/197] Extract patch: 100%|██████████| 50/50 [00:02<00:00, 21.08it/s]\n",
      "[110/197] Extract patch: 100%|██████████| 50/50 [00:02<00:00, 21.62it/s]\n",
      "[111/197] Extract patch: 100%|██████████| 50/50 [00:02<00:00, 18.16it/s]\n",
      "[112/197] Extract patch: 100%|██████████| 50/50 [00:02<00:00, 20.51it/s]\n",
      "[113/197] Extract patch: 100%|██████████| 50/50 [00:02<00:00, 22.60it/s]\n"
     ]
    },
    {
     "name": "stderr",
     "output_type": "stream",
     "text": [
      "[114/197] Extract patch: 100%|██████████| 50/50 [00:02<00:00, 18.96it/s]\n",
      "[115/197] Extract patch: 100%|██████████| 50/50 [00:02<00:00, 19.63it/s]\n",
      "[116/197] Extract patch: 100%|██████████| 50/50 [00:02<00:00, 21.97it/s]\n",
      "[117/197] Extract patch: 100%|██████████| 50/50 [00:02<00:00, 17.29it/s]\n",
      "[118/197] Extract patch: 100%|██████████| 50/50 [00:02<00:00, 18.16it/s]\n",
      "[119/197] Extract patch: 100%|██████████| 50/50 [00:02<00:00, 18.56it/s]\n",
      "[120/197] Extract patch: 100%|██████████| 50/50 [00:02<00:00, 20.37it/s]\n",
      "[121/197] Extract patch: 100%|██████████| 50/50 [00:02<00:00, 17.28it/s]\n",
      "[122/197] Extract patch: 100%|██████████| 50/50 [00:02<00:00, 17.36it/s]\n",
      "[123/197] Extract patch: 100%|██████████| 50/50 [00:03<00:00, 20.17it/s]\n",
      "[124/197] Extract patch: 100%|██████████| 50/50 [00:02<00:00, 20.31it/s]\n",
      "[125/197] Extract patch: 100%|██████████| 50/50 [00:02<00:00, 17.13it/s]\n",
      "[126/197] Extract patch: 100%|██████████| 50/50 [00:03<00:00, 16.03it/s]\n",
      "[127/197] Extract patch: 100%|██████████| 50/50 [00:02<00:00, 20.42it/s]\n",
      "[128/197] Extract patch: 100%|██████████| 50/50 [00:02<00:00, 19.14it/s]\n",
      "[129/197] Extract patch: 100%|██████████| 50/50 [00:02<00:00, 22.14it/s]\n",
      "[130/197] Extract patch: 100%|██████████| 50/50 [00:02<00:00, 21.06it/s]\n",
      "[131/197] Extract patch: 100%|██████████| 50/50 [00:02<00:00, 17.57it/s]\n",
      "[132/197] Extract patch: 100%|██████████| 50/50 [00:02<00:00, 19.25it/s]\n",
      "[133/197] Extract patch: 100%|██████████| 50/50 [00:02<00:00, 21.66it/s]\n",
      "[134/197] Extract patch: 100%|██████████| 50/50 [00:02<00:00, 17.66it/s]\n",
      "[135/197] Extract patch: 100%|██████████| 50/50 [00:02<00:00, 19.90it/s]\n",
      "[136/197] Extract patch: 100%|██████████| 50/50 [00:02<00:00, 17.22it/s]\n",
      "[137/197] Extract patch: 100%|██████████| 50/50 [00:02<00:00, 17.21it/s]\n",
      "[138/197] Extract patch: 100%|██████████| 50/50 [00:02<00:00, 18.35it/s]\n",
      "[139/197] Extract patch: 100%|██████████| 50/50 [00:02<00:00, 19.05it/s]\n",
      "[140/197] Extract patch: 100%|██████████| 50/50 [00:02<00:00, 18.33it/s]\n",
      "[141/197] Extract patch: 100%|██████████| 50/50 [00:02<00:00, 19.29it/s]\n",
      "[142/197] Extract patch: 100%|██████████| 50/50 [00:02<00:00, 20.39it/s]\n",
      "[143/197] Extract patch: 100%|██████████| 50/50 [00:02<00:00, 18.81it/s]\n",
      "[144/197] Extract patch: 100%|██████████| 50/50 [00:02<00:00, 18.27it/s]\n",
      "[145/197] Extract patch: 100%|██████████| 50/50 [00:02<00:00, 18.11it/s]\n",
      "[146/197] Extract patch: 100%|██████████| 50/50 [00:02<00:00, 17.20it/s]\n",
      "[147/197] Extract patch: 100%|██████████| 50/50 [00:02<00:00, 18.36it/s]\n",
      "[148/197] Extract patch: 100%|██████████| 50/50 [00:02<00:00, 19.37it/s]\n",
      "[149/197] Extract patch: 100%|██████████| 50/50 [00:02<00:00, 19.02it/s]\n",
      "[150/197] Extract patch: 100%|██████████| 50/50 [00:02<00:00, 17.86it/s]\n",
      "[151/197] Extract patch: 100%|██████████| 50/50 [00:02<00:00, 18.45it/s]\n",
      "[152/197] Extract patch: 100%|██████████| 50/50 [00:02<00:00, 17.41it/s]\n",
      "[153/197] Extract patch: 100%|██████████| 50/50 [00:02<00:00, 19.01it/s]\n",
      "[154/197] Extract patch: 100%|██████████| 50/50 [00:02<00:00, 21.40it/s]\n",
      "[155/197] Extract patch: 100%|██████████| 50/50 [00:02<00:00, 19.90it/s]\n",
      "[156/197] Extract patch: 100%|██████████| 50/50 [00:02<00:00, 19.01it/s]\n",
      "[157/197] Extract patch: 100%|██████████| 50/50 [00:02<00:00, 18.99it/s]\n",
      "[158/197] Extract patch: 100%|██████████| 50/50 [00:03<00:00, 16.48it/s]\n",
      "[159/197] Extract patch: 100%|██████████| 50/50 [00:02<00:00, 17.26it/s]\n",
      "[160/197] Extract patch: 100%|██████████| 50/50 [00:02<00:00, 18.89it/s]\n",
      "[161/197] Extract patch: 100%|██████████| 50/50 [00:02<00:00, 18.51it/s]\n",
      "[162/197] Extract patch: 100%|██████████| 50/50 [00:02<00:00, 19.67it/s]\n",
      "[163/197] Extract patch: 100%|██████████| 50/50 [00:02<00:00, 21.08it/s]\n",
      "[164/197] Extract patch: 100%|██████████| 50/50 [00:02<00:00, 18.63it/s]\n",
      "[165/197] Extract patch: 100%|██████████| 50/50 [00:02<00:00, 19.11it/s]\n",
      "[166/197] Extract patch: 100%|██████████| 50/50 [00:02<00:00, 18.47it/s]\n",
      "[167/197] Extract patch: 100%|██████████| 50/50 [00:02<00:00, 20.95it/s]\n",
      "[168/197] Extract patch: 100%|██████████| 50/50 [00:02<00:00, 20.37it/s]\n",
      "[169/197] Extract patch: 100%|██████████| 50/50 [00:02<00:00, 17.97it/s]\n",
      "[170/197] Extract patch: 100%|██████████| 50/50 [00:02<00:00, 18.08it/s]\n",
      "[171/197] Extract patch: 100%|██████████| 50/50 [00:02<00:00, 21.08it/s]\n",
      "[172/197] Extract patch: 100%|██████████| 50/50 [00:02<00:00, 17.44it/s]\n",
      "[173/197] Extract patch: 100%|██████████| 50/50 [00:02<00:00, 18.98it/s]\n",
      "[174/197] Extract patch: 100%|██████████| 50/50 [00:02<00:00, 20.11it/s]\n",
      "[175/197] Extract patch: 100%|██████████| 50/50 [00:02<00:00, 19.36it/s]\n",
      "[176/197] Extract patch: 100%|██████████| 50/50 [00:02<00:00, 19.07it/s]\n",
      "[177/197] Extract patch: 100%|██████████| 50/50 [00:02<00:00, 20.20it/s]\n",
      "[178/197] Extract patch: 100%|██████████| 50/50 [00:02<00:00, 21.62it/s]\n",
      "[179/197] Extract patch: 100%|██████████| 50/50 [00:02<00:00, 22.63it/s]\n",
      "[180/197] Extract patch: 100%|██████████| 50/50 [00:02<00:00, 21.74it/s]\n",
      "[181/197] Extract patch: 100%|██████████| 50/50 [00:02<00:00, 21.63it/s]\n",
      "[182/197] Extract patch: 100%|██████████| 50/50 [00:02<00:00, 20.58it/s]\n",
      "[183/197] Extract patch: 100%|██████████| 50/50 [00:02<00:00, 18.48it/s]\n",
      "[184/197] Extract patch: 100%|██████████| 50/50 [00:02<00:00, 17.95it/s]\n",
      "[185/197] Extract patch: 100%|██████████| 50/50 [00:02<00:00, 17.86it/s]\n",
      "[186/197] Extract patch: 100%|██████████| 50/50 [00:02<00:00, 19.82it/s]\n",
      "[187/197] Extract patch: 100%|██████████| 50/50 [00:02<00:00, 21.00it/s]\n",
      "[188/197] Extract patch: 100%|██████████| 50/50 [00:02<00:00, 21.35it/s]\n",
      "[189/197] Extract patch: 100%|██████████| 50/50 [00:02<00:00, 20.48it/s]\n",
      "[190/197] Extract patch: 100%|██████████| 50/50 [00:02<00:00, 21.98it/s]\n",
      "[191/197] Extract patch: 100%|██████████| 50/50 [00:02<00:00, 19.45it/s]\n",
      "[192/197] Extract patch: 100%|██████████| 50/50 [00:02<00:00, 19.36it/s]\n",
      "[193/197] Extract patch: 100%|██████████| 50/50 [00:02<00:00, 18.70it/s]\n",
      "[194/197] Extract patch: 100%|██████████| 50/50 [00:03<00:00, 14.18it/s]\n",
      "[195/197] Extract patch: 100%|██████████| 50/50 [00:02<00:00, 18.18it/s]\n",
      "[196/197] Extract patch: 100%|██████████| 50/50 [00:02<00:00, 18.68it/s]\n",
      "[197/197] Extract patch: 100%|██████████| 50/50 [00:02<00:00, 19.00it/s]"
     ]
    },
    {
     "name": "stdout",
     "output_type": "stream",
     "text": [
      "Image dataset     : human\n",
      "# images          : 197\n",
      "# processed images: 197\n",
      "# patches         : 768300\n",
      "# groups          : 9850\n",
      "patch size        : 128\n"
     ]
    },
    {
     "name": "stderr",
     "output_type": "stream",
     "text": [
      "\n"
     ]
    }
   ],
   "source": [
    "DATA.create_ms_patchset(\n",
    "    base_dir=base_dir,\n",
    "    data_dir=data_dir,\n",
    "    psz_low=psz_low,\n",
    "    down_factors=down_factors,\n",
    "    iou_range=iou_range,\n",
    "    n_max_corners=n_max_corners,\n",
    "    psz_final=psz_final\n",
    ")"
   ]
  },
  {
   "cell_type": "markdown",
   "metadata": {},
   "source": [
    "#### Generate triplet examples"
   ]
  },
  {
   "cell_type": "code",
   "execution_count": 5,
   "metadata": {},
   "outputs": [
    {
     "name": "stderr",
     "output_type": "stream",
     "text": [
      "Generating triplet samples:   0%|          | 108/1000000 [00:00<32:51, 507.19it/s]"
     ]
    },
    {
     "name": "stdout",
     "output_type": "stream",
     "text": [
      "-- data name   : human_patch\n",
      "-- # groups    : 9850\n",
      "-- # patch sets: 39400\n"
     ]
    },
    {
     "name": "stderr",
     "output_type": "stream",
     "text": [
      "Generating triplet samples: 100%|██████████| 1000000/1000000 [20:07<00:00, 827.99it/s]\n"
     ]
    }
   ],
   "source": [
    "DATA.generate_triplet_samples(\n",
    "    base_dir=base_dir,\n",
    "    data_dir=data_dir + '_patch',\n",
    "    n_samples=n_triplet_samples,\n",
    "    debug=True\n",
    ")"
   ]
  },
  {
   "cell_type": "markdown",
   "metadata": {},
   "source": [
    "#### Generate matched pairs"
   ]
  },
  {
   "cell_type": "code",
   "execution_count": 6,
   "metadata": {},
   "outputs": [
    {
     "name": "stderr",
     "output_type": "stream",
     "text": [
      "Generating matched pairs:   0%|          | 24/50000 [00:00<03:34, 232.92it/s]"
     ]
    },
    {
     "name": "stdout",
     "output_type": "stream",
     "text": [
      "-- data name   : human_patch\n",
      "-- # groups    : 9850\n",
      "-- # patch sets: 39400\n"
     ]
    },
    {
     "name": "stderr",
     "output_type": "stream",
     "text": [
      "Generating matched pairs: 100%|██████████| 50000/50000 [02:02<00:00, 408.55it/s]\n"
     ]
    }
   ],
   "source": [
    "DATA.generate_matched_pairs(\n",
    "    base_dir=base_dir,\n",
    "    data_dir=data_dir + '_patch',\n",
    "    n_samples=n_matched_pairs,\n",
    "    debug=True\n",
    ")"
   ]
  },
  {
   "cell_type": "markdown",
   "metadata": {},
   "source": [
    "#### Generate retrieval test set"
   ]
  },
  {
   "cell_type": "code",
   "execution_count": 7,
   "metadata": {},
   "outputs": [
    {
     "name": "stderr",
     "output_type": "stream",
     "text": [
      "Generating retrieval test set:  22%|██▏       | 2149/9850 [00:00<00:00, 10787.37it/s]"
     ]
    },
    {
     "name": "stdout",
     "output_type": "stream",
     "text": [
      "-- data name   : human_patch\n",
      "-- # groups    : 9850\n",
      "-- # patch sets: 39400\n"
     ]
    },
    {
     "name": "stderr",
     "output_type": "stream",
     "text": [
      "Generating retrieval test set: 100%|██████████| 9850/9850 [00:00<00:00, 10599.43it/s]\n"
     ]
    }
   ],
   "source": [
    "DATA.generate_image_retrieval_samples(\n",
    "    base_dir=base_dir,\n",
    "    data_dir=data_dir + '_patch',\n",
    "    n_query_per_group=n_query_per_group,\n",
    "    debug=True\n",
    ")"
   ]
  },
  {
   "cell_type": "code",
   "execution_count": null,
   "metadata": {},
   "outputs": [],
   "source": []
  }
 ],
 "metadata": {
  "kernelspec": {
   "display_name": "Python 3",
   "language": "python",
   "name": "python3"
  },
  "language_info": {
   "codemirror_mode": {
    "name": "ipython",
    "version": 3
   },
   "file_extension": ".py",
   "mimetype": "text/x-python",
   "name": "python",
   "nbconvert_exporter": "python",
   "pygments_lexer": "ipython3",
   "version": "3.5.2"
  }
 },
 "nbformat": 4,
 "nbformat_minor": 2
}
