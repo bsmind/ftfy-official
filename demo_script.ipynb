{
 "cells": [
  {
   "cell_type": "code",
   "execution_count": 1,
   "metadata": {},
   "outputs": [],
   "source": [
    "import tensorflow as tf\n",
    "import numpy as np\n",
    "from network.model_fn import triplet_model_fn"
   ]
  },
  {
   "cell_type": "markdown",
   "metadata": {},
   "source": [
    "### convenient class for easy usages"
   ]
  },
  {
   "cell_type": "code",
   "execution_count": 2,
   "metadata": {},
   "outputs": [],
   "source": [
    "class TripletNet(object):\n",
    "    def __init__(self, model_path):\n",
    "        self.anchors = tf.placeholder(tf.float32, (None, 208, 208, 1), \"a\")\n",
    "        self.positives = tf.placeholder(tf.float32, (None, 208, 208, 1), \"p\")\n",
    "        self.negatives = tf.placeholder(tf.float32, (None, 208, 208, 1), \"n\")\n",
    "        self.spec = triplet_model_fn(\n",
    "            self.anchors, self.positives, self.negatives,\n",
    "            n_feats=128, name='triplet-net', mode='TEST'\n",
    "        )\n",
    "        config = tf.ConfigProto(\n",
    "            allow_soft_placement=True,\n",
    "            log_device_placement=False,\n",
    "            intra_op_parallelism_threads=8,\n",
    "            inter_op_parallelism_threads=0\n",
    "        )\n",
    "        config.gpu_options.allow_growth = True\n",
    "        self.sess = tf.Session(config=config)\n",
    "        self.saver = tf.train.Saver()\n",
    "        \n",
    "        # initialize\n",
    "        self.sess.run(tf.global_variables_initializer())\n",
    "        self.sess.run(tf.local_variables_initializer())\n",
    "        ckpt = tf.train.get_checkpoint_state(model_path)\n",
    "        if ckpt and ckpt.model_checkpoint_path:\n",
    "            self.saver.restore(self.sess, ckpt.model_checkpoint_path)\n",
    "            \n",
    "    def get_feature(self, images, batch_size=16):\n",
    "        image_features = []\n",
    "        N = len(images)\n",
    "        batch_iters = (N + batch_size) // batch_size\n",
    "        for i in range(batch_iters):\n",
    "            feed_dict = dict(self.spec.test_feed_dict)\n",
    "            feed_dict[self.anchors] = images[i*batch_size:(i+1)*batch_size]\n",
    "            features = self.sess.run(self.spec.a_feat, feed_dict=feed_dict)\n",
    "            image_features.append(features)\n",
    "        image_features = np.concatenate(image_features, axis=0)\n",
    "        return image_features\n",
    "    \n",
    "    def get_all_outputs(self, images):\n",
    "        layers = ['conv-{:d}'.format(i+1) for i in range(11)]\n",
    "        layers.append('merged')\n",
    "        layers.append('conv-12')\n",
    "        layers.append('conv-13')\n",
    "        layers.append('fc1')\n",
    "        \n",
    "        ops = [\n",
    "            self.spec.net.conv1, self.spec.net.conv2, self.spec.net.conv3,\n",
    "            self.spec.net.conv4, self.spec.net.conv5, self.spec.net.conv6,\n",
    "            self.spec.net.conv7, self.spec.net.conv8, self.spec.net.conv9,\n",
    "            self.spec.net.conv10, self.spec.net.conv11, \n",
    "            self.spec.net.merged,\n",
    "            self.spec.net.conv12, self.spec.net.conv13,  \n",
    "            self.spec.net.fc1\n",
    "        ]\n",
    "        \n",
    "        outputs = []\n",
    "        for i in range(len(images)):\n",
    "            feed_dict = dict(self.spec.test_feed_dict)\n",
    "            \n",
    "            im = images[i]\n",
    "            im = np.expand_dims(im, axis=0)\n",
    "            \n",
    "            feed_dict[self.anchors] = im\n",
    "            output = self.sess.run(ops, feed_dict=feed_dict)\n",
    "            \n",
    "            output_dict = dict()\n",
    "            for layer, o in zip(layers, output):\n",
    "                output_dict[layer] = o\n",
    "            outputs.append(output_dict)\n",
    "        return outputs\n",
    "        "
   ]
  },
  {
   "cell_type": "code",
   "execution_count": 3,
   "metadata": {},
   "outputs": [],
   "source": [
    "model_path = './log/ms_softmargin_f128_lr'"
   ]
  },
  {
   "cell_type": "code",
   "execution_count": 4,
   "metadata": {},
   "outputs": [
    {
     "name": "stdout",
     "output_type": "stream",
     "text": [
      "INFO:tensorflow:Restoring parameters from ./log/ms_softmargin_f128_lr/triplet_net-255\n"
     ]
    }
   ],
   "source": [
    "# load network\n",
    "net = TripletNet(model_path)"
   ]
  },
  {
   "cell_type": "code",
   "execution_count": 5,
   "metadata": {},
   "outputs": [
    {
     "name": "stdout",
     "output_type": "stream",
     "text": [
      "feature dim:  (1, 128)\n"
     ]
    }
   ],
   "source": [
    "# get features\n",
    "images = np.random.random((1, 208, 208, 1)).astype(np.float32)\n",
    "features = net.get_feature(images)\n",
    "print(\"feature dim: \", features.shape)"
   ]
  },
  {
   "cell_type": "code",
   "execution_count": 6,
   "metadata": {},
   "outputs": [
    {
     "name": "stdout",
     "output_type": "stream",
     "text": [
      "conv-1: (1, 208, 208, 32)\n",
      "conv-2: (1, 104, 104, 64)\n",
      "conv-3: (1, 104, 104, 128)\n",
      "conv-4: (1, 104, 104, 64)\n",
      "conv-5: (1, 52, 52, 128)\n",
      "conv-6: (1, 52, 52, 256)\n",
      "conv-7: (1, 52, 52, 128)\n",
      "conv-8: (1, 26, 26, 256)\n",
      "conv-9: (1, 26, 26, 512)\n",
      "conv-10: (1, 26, 26, 256)\n",
      "conv-11: (1, 13, 13, 512)\n",
      "merged: (1, 13, 13, 3584)\n",
      "conv-12: (1, 13, 13, 1024)\n",
      "conv-13: (1, 13, 13, 512)\n",
      "fc1: (1, 128)\n"
     ]
    }
   ],
   "source": [
    "# get tensors by an random example\n",
    "outputs = net.get_all_outputs(images)\n",
    "\n",
    "outputs = outputs[0]\n",
    "for k, v in outputs.items():\n",
    "    print(\"{}: {}\".format(k, v.shape))"
   ]
  },
  {
   "cell_type": "code",
   "execution_count": null,
   "metadata": {},
   "outputs": [],
   "source": []
  },
  {
   "cell_type": "code",
   "execution_count": null,
   "metadata": {},
   "outputs": [],
   "source": []
  },
  {
   "cell_type": "code",
   "execution_count": null,
   "metadata": {},
   "outputs": [],
   "source": []
  },
  {
   "cell_type": "code",
   "execution_count": null,
   "metadata": {},
   "outputs": [],
   "source": []
  },
  {
   "cell_type": "code",
   "execution_count": null,
   "metadata": {},
   "outputs": [],
   "source": []
  }
 ],
 "metadata": {
  "kernelspec": {
   "display_name": "Python 3",
   "language": "python",
   "name": "python3"
  },
  "language_info": {
   "codemirror_mode": {
    "name": "ipython",
    "version": 3
   },
   "file_extension": ".py",
   "mimetype": "text/x-python",
   "name": "python",
   "nbconvert_exporter": "python",
   "pygments_lexer": "ipython3",
   "version": "3.6.7"
  }
 },
 "nbformat": 4,
 "nbformat_minor": 2
}
