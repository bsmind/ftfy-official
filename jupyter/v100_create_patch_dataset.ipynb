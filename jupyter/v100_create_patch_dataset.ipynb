{
 "cells": [
  {
   "cell_type": "markdown",
   "metadata": {},
   "source": [
    "### Create multi-scaled patch dataset"
   ]
  },
  {
   "cell_type": "code",
   "execution_count": 1,
   "metadata": {},
   "outputs": [],
   "source": [
    "import os\n",
    "import utils.data as DATA"
   ]
  },
  {
   "cell_type": "code",
   "execution_count": 2,
   "metadata": {},
   "outputs": [],
   "source": [
    "base_dir = './Data/austin'\n",
    "data_dir = 'campus' # 'campus', 'scene', 'human'\n",
    "\n",
    "psz_low = 13 # patch size at the lowest resolution\n",
    "psz_final = 128 # final patch size\n",
    "down_factors = [1, 2, 4, 6, 8, 10]\n",
    "iou_range = [(0.7, 1.0), (0.5, 0.7), (0.3, 0.5)]\n",
    "n_max_corners = 50\n",
    "\n",
    "n_triplet_samples = 1000000\n",
    "n_matched_pairs   =   50000\n",
    "n_query_per_group =       2"
   ]
  },
  {
   "cell_type": "code",
   "execution_count": 3,
   "metadata": {},
   "outputs": [],
   "source": [
    "patch_dir = os.path.join(base_dir, data_dir + '_patch')\n",
    "if not os.path.exists(patch_dir):\n",
    "    os.makedirs(patch_dir)"
   ]
  },
  {
   "cell_type": "markdown",
   "metadata": {},
   "source": [
    "#### create multi-scaled patch dataset"
   ]
  },
  {
   "cell_type": "code",
   "execution_count": 4,
   "metadata": {},
   "outputs": [
    {
     "name": "stderr",
     "output_type": "stream",
     "text": [
      "[1/90] Extract patch: 100%|██████████| 50/50 [00:02<00:00, 20.47it/s]\n",
      "[2/90] Extract patch: 100%|██████████| 50/50 [00:02<00:00, 19.91it/s]\n",
      "[3/90] Extract patch: 100%|██████████| 50/50 [00:02<00:00, 17.48it/s]\n",
      "[4/90] Extract patch: 100%|██████████| 50/50 [00:02<00:00, 20.38it/s]\n",
      "[5/90] Extract patch: 100%|██████████| 50/50 [00:02<00:00, 18.17it/s]\n",
      "[6/90] Extract patch: 100%|██████████| 50/50 [00:03<00:00, 15.66it/s]\n",
      "[7/90] Extract patch: 100%|██████████| 50/50 [00:02<00:00, 17.55it/s]\n",
      "[8/90] Extract patch: 100%|██████████| 50/50 [00:02<00:00, 18.74it/s]\n",
      "[9/90] Extract patch: 100%|██████████| 50/50 [00:02<00:00, 22.11it/s]\n",
      "[10/90] Extract patch: 100%|██████████| 50/50 [00:02<00:00, 21.58it/s]\n",
      "[11/90] Extract patch: 100%|██████████| 50/50 [00:02<00:00, 22.05it/s]\n",
      "[12/90] Extract patch: 100%|██████████| 50/50 [00:02<00:00, 17.05it/s]\n",
      "[13/90] Extract patch: 100%|██████████| 50/50 [00:02<00:00, 18.25it/s]\n",
      "[14/90] Extract patch: 100%|██████████| 50/50 [00:02<00:00, 17.84it/s]\n",
      "[15/90] Extract patch: 100%|██████████| 50/50 [00:02<00:00, 20.91it/s]\n",
      "[16/90] Extract patch: 100%|██████████| 50/50 [00:02<00:00, 17.11it/s]\n",
      "[17/90] Extract patch: 100%|██████████| 50/50 [00:02<00:00, 19.67it/s]\n",
      "[18/90] Extract patch: 100%|██████████| 50/50 [00:02<00:00, 19.82it/s]\n",
      "[19/90] Extract patch: 100%|██████████| 50/50 [00:02<00:00, 21.45it/s]\n",
      "[20/90] Extract patch: 100%|██████████| 50/50 [00:02<00:00, 19.03it/s]\n",
      "[21/90] Extract patch: 100%|██████████| 50/50 [00:02<00:00, 17.61it/s]\n",
      "[22/90] Extract patch: 100%|██████████| 50/50 [00:02<00:00, 18.96it/s]\n",
      "[23/90] Extract patch: 100%|██████████| 50/50 [00:02<00:00, 20.30it/s]\n",
      "[24/90] Extract patch: 100%|██████████| 50/50 [00:02<00:00, 16.51it/s]\n",
      "[25/90] Extract patch: 100%|██████████| 50/50 [00:02<00:00, 19.38it/s]\n",
      "[26/90] Extract patch: 100%|██████████| 50/50 [00:02<00:00, 19.51it/s]\n",
      "[27/90] Extract patch: 100%|██████████| 50/50 [00:02<00:00, 19.15it/s]\n",
      "[28/90] Extract patch: 100%|██████████| 50/50 [00:02<00:00, 20.62it/s]\n",
      "[29/90] Extract patch: 100%|██████████| 50/50 [00:02<00:00, 19.46it/s]\n",
      "[30/90] Extract patch: 100%|██████████| 50/50 [00:02<00:00, 20.06it/s]\n",
      "[31/90] Extract patch: 100%|██████████| 50/50 [00:02<00:00, 19.45it/s]\n",
      "[32/90] Extract patch: 100%|██████████| 50/50 [00:02<00:00, 21.59it/s]\n",
      "[33/90] Extract patch: 100%|██████████| 50/50 [00:02<00:00, 17.91it/s]\n",
      "[34/90] Extract patch: 100%|██████████| 50/50 [00:02<00:00, 22.01it/s]\n",
      "[35/90] Extract patch: 100%|██████████| 50/50 [00:02<00:00, 18.69it/s]\n",
      "[36/90] Extract patch: 100%|██████████| 50/50 [00:02<00:00, 21.66it/s]\n",
      "[37/90] Extract patch: 100%|██████████| 50/50 [00:02<00:00, 18.00it/s]\n",
      "[38/90] Extract patch: 100%|██████████| 50/50 [00:02<00:00, 20.72it/s]\n",
      "[39/90] Extract patch: 100%|██████████| 50/50 [00:02<00:00, 18.56it/s]\n",
      "[40/90] Extract patch: 100%|██████████| 50/50 [00:02<00:00, 16.95it/s]\n",
      "[41/90] Extract patch: 100%|██████████| 50/50 [00:02<00:00, 18.72it/s]\n",
      "[42/90] Extract patch: 100%|██████████| 50/50 [00:02<00:00, 17.20it/s]\n",
      "[43/90] Extract patch: 100%|██████████| 50/50 [00:02<00:00, 18.30it/s]\n",
      "[44/90] Extract patch: 100%|██████████| 50/50 [00:02<00:00, 18.44it/s]\n",
      "[45/90] Extract patch: 100%|██████████| 50/50 [00:02<00:00, 20.07it/s]\n",
      "[46/90] Extract patch: 100%|██████████| 50/50 [00:02<00:00, 21.84it/s]\n",
      "[47/90] Extract patch: 100%|██████████| 50/50 [00:02<00:00, 19.05it/s]\n",
      "[48/90] Extract patch: 100%|██████████| 50/50 [00:02<00:00, 17.87it/s]\n",
      "[49/90] Extract patch: 100%|██████████| 50/50 [00:02<00:00, 18.48it/s]\n",
      "[50/90] Extract patch: 100%|██████████| 50/50 [00:02<00:00, 19.46it/s]\n",
      "[51/90] Extract patch: 100%|██████████| 50/50 [00:02<00:00, 19.20it/s]\n",
      "[52/90] Extract patch: 100%|██████████| 50/50 [00:02<00:00, 16.85it/s]\n",
      "[53/90] Extract patch: 100%|██████████| 50/50 [00:02<00:00, 17.90it/s]\n",
      "[54/90] Extract patch: 100%|██████████| 50/50 [00:02<00:00, 19.43it/s]\n",
      "[55/90] Extract patch: 100%|██████████| 50/50 [00:02<00:00, 17.65it/s]\n",
      "[56/90] Extract patch: 100%|██████████| 50/50 [00:02<00:00, 19.05it/s]\n",
      "[57/90] Extract patch: 100%|██████████| 50/50 [00:02<00:00, 17.85it/s]\n",
      "[58/90] Extract patch: 100%|██████████| 50/50 [00:02<00:00, 17.56it/s]\n",
      "[59/90] Extract patch: 100%|██████████| 50/50 [00:02<00:00, 19.25it/s]\n",
      "[60/90] Extract patch: 100%|██████████| 50/50 [00:02<00:00, 18.71it/s]\n",
      "[61/90] Extract patch: 100%|██████████| 50/50 [00:02<00:00, 19.26it/s]\n",
      "[62/90] Extract patch: 100%|██████████| 50/50 [00:02<00:00, 21.14it/s]\n",
      "[63/90] Extract patch: 100%|██████████| 50/50 [00:02<00:00, 19.93it/s]\n",
      "[64/90] Extract patch: 100%|██████████| 50/50 [00:02<00:00, 16.86it/s]\n",
      "[65/90] Extract patch: 100%|██████████| 50/50 [00:02<00:00, 18.28it/s]\n",
      "[66/90] Extract patch: 100%|██████████| 50/50 [00:02<00:00, 17.46it/s]\n",
      "[67/90] Extract patch: 100%|██████████| 50/50 [00:02<00:00, 16.90it/s]\n",
      "[68/90] Extract patch: 100%|██████████| 50/50 [00:03<00:00, 16.36it/s]\n",
      "[69/90] Extract patch: 100%|██████████| 50/50 [00:02<00:00, 21.26it/s]\n",
      "[70/90] Extract patch: 100%|██████████| 50/50 [00:02<00:00, 20.93it/s]\n",
      "[71/90] Extract patch: 100%|██████████| 50/50 [00:02<00:00, 19.03it/s]\n",
      "[72/90] Extract patch: 100%|██████████| 50/50 [00:02<00:00, 19.52it/s]\n",
      "[73/90] Extract patch: 100%|██████████| 50/50 [00:02<00:00, 21.49it/s]\n",
      "[74/90] Extract patch: 100%|██████████| 50/50 [00:02<00:00, 21.16it/s]\n",
      "[75/90] Extract patch: 100%|██████████| 50/50 [00:02<00:00, 18.04it/s]\n",
      "[76/90] Extract patch: 100%|██████████| 50/50 [00:02<00:00, 17.95it/s]\n",
      "[77/90] Extract patch: 100%|██████████| 50/50 [00:02<00:00, 19.44it/s]\n",
      "[78/90] Extract patch: 100%|██████████| 50/50 [00:02<00:00, 17.98it/s]\n",
      "[79/90] Extract patch: 100%|██████████| 50/50 [00:02<00:00, 18.83it/s]\n",
      "[80/90] Extract patch: 100%|██████████| 50/50 [00:02<00:00, 19.02it/s]\n",
      "[81/90] Extract patch: 100%|██████████| 50/50 [00:02<00:00, 17.95it/s]\n",
      "[82/90] Extract patch: 100%|██████████| 50/50 [00:02<00:00, 17.73it/s]\n",
      "[83/90] Extract patch: 100%|██████████| 50/50 [00:02<00:00, 19.11it/s]\n",
      "[84/90] Extract patch: 100%|██████████| 50/50 [00:02<00:00, 17.53it/s]\n",
      "[85/90] Extract patch: 100%|██████████| 50/50 [00:02<00:00, 18.77it/s]\n",
      "[86/90] Extract patch: 100%|██████████| 50/50 [00:02<00:00, 21.54it/s]\n",
      "[87/90] Extract patch: 100%|██████████| 50/50 [00:02<00:00, 18.03it/s]\n",
      "[88/90] Extract patch: 100%|██████████| 50/50 [00:02<00:00, 19.12it/s]\n",
      "[89/90] Extract patch: 100%|██████████| 50/50 [00:02<00:00, 19.81it/s]\n",
      "[90/90] Extract patch: 100%|██████████| 50/50 [00:02<00:00, 20.50it/s]"
     ]
    },
    {
     "name": "stdout",
     "output_type": "stream",
     "text": [
      "Image dataset     : campus\n",
      "# images          : 90\n",
      "# processed images: 90\n",
      "# patches         : 351000\n",
      "# groups          : 4500\n",
      "patch size        : 128\n"
     ]
    },
    {
     "name": "stderr",
     "output_type": "stream",
     "text": [
      "\n"
     ]
    }
   ],
   "source": [
    "DATA.create_ms_patchset(\n",
    "    base_dir=base_dir,\n",
    "    data_dir=data_dir,\n",
    "    psz_low=psz_low,\n",
    "    down_factors=down_factors,\n",
    "    iou_range=iou_range,\n",
    "    n_max_corners=n_max_corners,\n",
    "    psz_final=psz_final\n",
    ")"
   ]
  },
  {
   "cell_type": "markdown",
   "metadata": {},
   "source": [
    "#### Generate triplet examples"
   ]
  },
  {
   "cell_type": "code",
   "execution_count": 5,
   "metadata": {},
   "outputs": [
    {
     "name": "stderr",
     "output_type": "stream",
     "text": [
      "Generating triplet samples:   0%|          | 321/1000000 [00:00<10:27, 1593.94it/s]"
     ]
    },
    {
     "name": "stdout",
     "output_type": "stream",
     "text": [
      "-- data name   : campus_patch\n",
      "-- # groups    : 4500\n",
      "-- # patch sets: 18000\n"
     ]
    },
    {
     "name": "stderr",
     "output_type": "stream",
     "text": [
      "Generating triplet samples: 100%|██████████| 1000000/1000000 [09:45<00:00, 1708.80it/s]\n"
     ]
    }
   ],
   "source": [
    "DATA.generate_triplet_samples(\n",
    "    base_dir=base_dir,\n",
    "    data_dir=data_dir + '_patch',\n",
    "    n_samples=n_triplet_samples,\n",
    "    debug=True\n",
    ")"
   ]
  },
  {
   "cell_type": "markdown",
   "metadata": {},
   "source": [
    "#### Generate matched pairs"
   ]
  },
  {
   "cell_type": "code",
   "execution_count": 6,
   "metadata": {},
   "outputs": [
    {
     "name": "stderr",
     "output_type": "stream",
     "text": [
      "Generating matched pairs:   0%|          | 91/50000 [00:00<00:54, 909.97it/s]"
     ]
    },
    {
     "name": "stdout",
     "output_type": "stream",
     "text": [
      "-- data name   : campus_patch\n",
      "-- # groups    : 4500\n",
      "-- # patch sets: 18000\n"
     ]
    },
    {
     "name": "stderr",
     "output_type": "stream",
     "text": [
      "Generating matched pairs: 100%|██████████| 50000/50000 [00:54<00:00, 912.54it/s]\n"
     ]
    }
   ],
   "source": [
    "DATA.generate_matched_pairs(\n",
    "    base_dir=base_dir,\n",
    "    data_dir=data_dir + '_patch',\n",
    "    n_samples=n_matched_pairs,\n",
    "    debug=True\n",
    ")"
   ]
  },
  {
   "cell_type": "markdown",
   "metadata": {},
   "source": [
    "#### Generate retrieval test set"
   ]
  },
  {
   "cell_type": "code",
   "execution_count": 7,
   "metadata": {},
   "outputs": [
    {
     "name": "stderr",
     "output_type": "stream",
     "text": [
      "Generating retrieval test set:  25%|██▌       | 1125/4500 [00:00<00:00, 11247.25it/s]"
     ]
    },
    {
     "name": "stdout",
     "output_type": "stream",
     "text": [
      "-- data name   : campus_patch\n",
      "-- # groups    : 4500\n",
      "-- # patch sets: 18000\n"
     ]
    },
    {
     "name": "stderr",
     "output_type": "stream",
     "text": [
      "Generating retrieval test set: 100%|██████████| 4500/4500 [00:00<00:00, 10973.09it/s]\n"
     ]
    }
   ],
   "source": [
    "DATA.generate_image_retrieval_samples(\n",
    "    base_dir=base_dir,\n",
    "    data_dir=data_dir + '_patch',\n",
    "    n_query_per_group=n_query_per_group,\n",
    "    debug=True\n",
    ")"
   ]
  },
  {
   "cell_type": "code",
   "execution_count": null,
   "metadata": {},
   "outputs": [],
   "source": []
  }
 ],
 "metadata": {
  "kernelspec": {
   "display_name": "Python 3",
   "language": "python",
   "name": "python3"
  },
  "language_info": {
   "codemirror_mode": {
    "name": "ipython",
    "version": 3
   },
   "file_extension": ".py",
   "mimetype": "text/x-python",
   "name": "python",
   "nbconvert_exporter": "python",
   "pygments_lexer": "ipython3",
   "version": "3.5.2"
  }
 },
 "nbformat": 4,
 "nbformat_minor": 2
}
