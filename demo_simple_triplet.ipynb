{
 "cells": [
  {
   "cell_type": "code",
   "execution_count": 1,
   "metadata": {},
   "outputs": [],
   "source": [
    "import os\n",
    "import pickle\n",
    "import tensorflow as tf\n",
    "import numpy as np\n",
    "from network.test import TripletNet\n",
    "\n",
    "# useful to inspect a checkpoint\n",
    "from tensorflow.python.tools.inspect_checkpoint import print_tensors_in_checkpoint_file"
   ]
  },
  {
   "cell_type": "code",
   "execution_count": 2,
   "metadata": {},
   "outputs": [],
   "source": [
    "log_dir = './log/sem2'\n",
    "model_path = os.path.join(log_dir, 'ckpt')\n",
    "epoch = 20//5 # checkpoint was made every 5 epochs"
   ]
  },
  {
   "cell_type": "code",
   "execution_count": 3,
   "metadata": {},
   "outputs": [
    {
     "name": "stdout",
     "output_type": "stream",
     "text": [
      "global_step (DT_INT64) []\n",
      "triplet-net/_bn1/beta (DT_FLOAT) [32]\n",
      "triplet-net/_bn1/beta/Momentum (DT_FLOAT) [32]\n",
      "triplet-net/_bn1/gamma (DT_FLOAT) [32]\n",
      "triplet-net/_bn1/gamma/Momentum (DT_FLOAT) [32]\n",
      "triplet-net/_bn1/moving_mean (DT_FLOAT) [32]\n",
      "triplet-net/_bn1/moving_variance (DT_FLOAT) [32]\n",
      "triplet-net/_bn10/beta (DT_FLOAT) [256]\n",
      "triplet-net/_bn10/beta/Momentum (DT_FLOAT) [256]\n",
      "triplet-net/_bn10/gamma (DT_FLOAT) [256]\n",
      "triplet-net/_bn10/gamma/Momentum (DT_FLOAT) [256]\n",
      "triplet-net/_bn10/moving_mean (DT_FLOAT) [256]\n",
      "triplet-net/_bn10/moving_variance (DT_FLOAT) [256]\n",
      "triplet-net/_bn11/beta (DT_FLOAT) [512]\n",
      "triplet-net/_bn11/beta/Momentum (DT_FLOAT) [512]\n",
      "triplet-net/_bn11/gamma (DT_FLOAT) [512]\n",
      "triplet-net/_bn11/gamma/Momentum (DT_FLOAT) [512]\n",
      "triplet-net/_bn11/moving_mean (DT_FLOAT) [512]\n",
      "triplet-net/_bn11/moving_variance (DT_FLOAT) [512]\n",
      "triplet-net/_bn12/beta (DT_FLOAT) [1024]\n",
      "triplet-net/_bn12/beta/Momentum (DT_FLOAT) [1024]\n",
      "triplet-net/_bn12/gamma (DT_FLOAT) [1024]\n",
      "triplet-net/_bn12/gamma/Momentum (DT_FLOAT) [1024]\n",
      "triplet-net/_bn12/moving_mean (DT_FLOAT) [1024]\n",
      "triplet-net/_bn12/moving_variance (DT_FLOAT) [1024]\n",
      "triplet-net/_bn13/beta (DT_FLOAT) [512]\n",
      "triplet-net/_bn13/beta/Momentum (DT_FLOAT) [512]\n",
      "triplet-net/_bn13/gamma (DT_FLOAT) [512]\n",
      "triplet-net/_bn13/gamma/Momentum (DT_FLOAT) [512]\n",
      "triplet-net/_bn13/moving_mean (DT_FLOAT) [512]\n",
      "triplet-net/_bn13/moving_variance (DT_FLOAT) [512]\n",
      "triplet-net/_bn14/beta (DT_FLOAT) [128]\n",
      "triplet-net/_bn14/beta/Momentum (DT_FLOAT) [128]\n",
      "triplet-net/_bn14/gamma (DT_FLOAT) [128]\n",
      "triplet-net/_bn14/gamma/Momentum (DT_FLOAT) [128]\n",
      "triplet-net/_bn14/moving_mean (DT_FLOAT) [128]\n",
      "triplet-net/_bn14/moving_variance (DT_FLOAT) [128]\n",
      "triplet-net/_bn2/beta (DT_FLOAT) [64]\n",
      "triplet-net/_bn2/beta/Momentum (DT_FLOAT) [64]\n",
      "triplet-net/_bn2/gamma (DT_FLOAT) [64]\n",
      "triplet-net/_bn2/gamma/Momentum (DT_FLOAT) [64]\n",
      "triplet-net/_bn2/moving_mean (DT_FLOAT) [64]\n",
      "triplet-net/_bn2/moving_variance (DT_FLOAT) [64]\n",
      "triplet-net/_bn3/beta (DT_FLOAT) [128]\n",
      "triplet-net/_bn3/beta/Momentum (DT_FLOAT) [128]\n",
      "triplet-net/_bn3/gamma (DT_FLOAT) [128]\n",
      "triplet-net/_bn3/gamma/Momentum (DT_FLOAT) [128]\n",
      "triplet-net/_bn3/moving_mean (DT_FLOAT) [128]\n",
      "triplet-net/_bn3/moving_variance (DT_FLOAT) [128]\n",
      "triplet-net/_bn4/beta (DT_FLOAT) [64]\n",
      "triplet-net/_bn4/beta/Momentum (DT_FLOAT) [64]\n",
      "triplet-net/_bn4/gamma (DT_FLOAT) [64]\n",
      "triplet-net/_bn4/gamma/Momentum (DT_FLOAT) [64]\n",
      "triplet-net/_bn4/moving_mean (DT_FLOAT) [64]\n",
      "triplet-net/_bn4/moving_variance (DT_FLOAT) [64]\n",
      "triplet-net/_bn5/beta (DT_FLOAT) [128]\n",
      "triplet-net/_bn5/beta/Momentum (DT_FLOAT) [128]\n",
      "triplet-net/_bn5/gamma (DT_FLOAT) [128]\n",
      "triplet-net/_bn5/gamma/Momentum (DT_FLOAT) [128]\n",
      "triplet-net/_bn5/moving_mean (DT_FLOAT) [128]\n",
      "triplet-net/_bn5/moving_variance (DT_FLOAT) [128]\n",
      "triplet-net/_bn6/beta (DT_FLOAT) [256]\n",
      "triplet-net/_bn6/beta/Momentum (DT_FLOAT) [256]\n",
      "triplet-net/_bn6/gamma (DT_FLOAT) [256]\n",
      "triplet-net/_bn6/gamma/Momentum (DT_FLOAT) [256]\n",
      "triplet-net/_bn6/moving_mean (DT_FLOAT) [256]\n",
      "triplet-net/_bn6/moving_variance (DT_FLOAT) [256]\n",
      "triplet-net/_bn7/beta (DT_FLOAT) [128]\n",
      "triplet-net/_bn7/beta/Momentum (DT_FLOAT) [128]\n",
      "triplet-net/_bn7/gamma (DT_FLOAT) [128]\n",
      "triplet-net/_bn7/gamma/Momentum (DT_FLOAT) [128]\n",
      "triplet-net/_bn7/moving_mean (DT_FLOAT) [128]\n",
      "triplet-net/_bn7/moving_variance (DT_FLOAT) [128]\n",
      "triplet-net/_bn8/beta (DT_FLOAT) [256]\n",
      "triplet-net/_bn8/beta/Momentum (DT_FLOAT) [256]\n",
      "triplet-net/_bn8/gamma (DT_FLOAT) [256]\n",
      "triplet-net/_bn8/gamma/Momentum (DT_FLOAT) [256]\n",
      "triplet-net/_bn8/moving_mean (DT_FLOAT) [256]\n",
      "triplet-net/_bn8/moving_variance (DT_FLOAT) [256]\n",
      "triplet-net/_bn9/beta (DT_FLOAT) [512]\n",
      "triplet-net/_bn9/beta/Momentum (DT_FLOAT) [512]\n",
      "triplet-net/_bn9/gamma (DT_FLOAT) [512]\n",
      "triplet-net/_bn9/gamma/Momentum (DT_FLOAT) [512]\n",
      "triplet-net/_bn9/moving_mean (DT_FLOAT) [512]\n",
      "triplet-net/_bn9/moving_variance (DT_FLOAT) [512]\n",
      "triplet-net/conv1/bias (DT_FLOAT) [32]\n",
      "triplet-net/conv1/bias/Momentum (DT_FLOAT) [32]\n",
      "triplet-net/conv1/kernel (DT_FLOAT) [3,3,1,32]\n",
      "triplet-net/conv1/kernel/Momentum (DT_FLOAT) [3,3,1,32]\n",
      "triplet-net/conv10/bias (DT_FLOAT) [256]\n",
      "triplet-net/conv10/bias/Momentum (DT_FLOAT) [256]\n",
      "triplet-net/conv10/kernel (DT_FLOAT) [1,1,512,256]\n",
      "triplet-net/conv10/kernel/Momentum (DT_FLOAT) [1,1,512,256]\n",
      "triplet-net/conv11/bias (DT_FLOAT) [512]\n",
      "triplet-net/conv11/bias/Momentum (DT_FLOAT) [512]\n",
      "triplet-net/conv11/kernel (DT_FLOAT) [3,3,256,512]\n",
      "triplet-net/conv11/kernel/Momentum (DT_FLOAT) [3,3,256,512]\n",
      "triplet-net/conv12/bias (DT_FLOAT) [1024]\n",
      "triplet-net/conv12/bias/Momentum (DT_FLOAT) [1024]\n",
      "triplet-net/conv12/kernel (DT_FLOAT) [3,3,3584,1024]\n",
      "triplet-net/conv12/kernel/Momentum (DT_FLOAT) [3,3,3584,1024]\n",
      "triplet-net/conv13/bias (DT_FLOAT) [512]\n",
      "triplet-net/conv13/bias/Momentum (DT_FLOAT) [512]\n",
      "triplet-net/conv13/kernel (DT_FLOAT) [1,1,1024,512]\n",
      "triplet-net/conv13/kernel/Momentum (DT_FLOAT) [1,1,1024,512]\n",
      "triplet-net/conv2/bias (DT_FLOAT) [64]\n",
      "triplet-net/conv2/bias/Momentum (DT_FLOAT) [64]\n",
      "triplet-net/conv2/kernel (DT_FLOAT) [3,3,32,64]\n",
      "triplet-net/conv2/kernel/Momentum (DT_FLOAT) [3,3,32,64]\n",
      "triplet-net/conv3/bias (DT_FLOAT) [128]\n",
      "triplet-net/conv3/bias/Momentum (DT_FLOAT) [128]\n",
      "triplet-net/conv3/kernel (DT_FLOAT) [3,3,64,128]\n",
      "triplet-net/conv3/kernel/Momentum (DT_FLOAT) [3,3,64,128]\n",
      "triplet-net/conv4/bias (DT_FLOAT) [64]\n",
      "triplet-net/conv4/bias/Momentum (DT_FLOAT) [64]\n",
      "triplet-net/conv4/kernel (DT_FLOAT) [1,1,128,64]\n",
      "triplet-net/conv4/kernel/Momentum (DT_FLOAT) [1,1,128,64]\n",
      "triplet-net/conv5/bias (DT_FLOAT) [128]\n",
      "triplet-net/conv5/bias/Momentum (DT_FLOAT) [128]\n",
      "triplet-net/conv5/kernel (DT_FLOAT) [3,3,64,128]\n",
      "triplet-net/conv5/kernel/Momentum (DT_FLOAT) [3,3,64,128]\n",
      "triplet-net/conv6/bias (DT_FLOAT) [256]\n",
      "triplet-net/conv6/bias/Momentum (DT_FLOAT) [256]\n",
      "triplet-net/conv6/kernel (DT_FLOAT) [3,3,128,256]\n",
      "triplet-net/conv6/kernel/Momentum (DT_FLOAT) [3,3,128,256]\n",
      "triplet-net/conv7/bias (DT_FLOAT) [128]\n",
      "triplet-net/conv7/bias/Momentum (DT_FLOAT) [128]\n",
      "triplet-net/conv7/kernel (DT_FLOAT) [1,1,256,128]\n",
      "triplet-net/conv7/kernel/Momentum (DT_FLOAT) [1,1,256,128]\n",
      "triplet-net/conv8/bias (DT_FLOAT) [256]\n",
      "triplet-net/conv8/bias/Momentum (DT_FLOAT) [256]\n",
      "triplet-net/conv8/kernel (DT_FLOAT) [3,3,128,256]\n",
      "triplet-net/conv8/kernel/Momentum (DT_FLOAT) [3,3,128,256]\n",
      "triplet-net/conv9/bias (DT_FLOAT) [512]\n",
      "triplet-net/conv9/bias/Momentum (DT_FLOAT) [512]\n",
      "triplet-net/conv9/kernel (DT_FLOAT) [3,3,256,512]\n",
      "triplet-net/conv9/kernel/Momentum (DT_FLOAT) [3,3,256,512]\n",
      "triplet-net/fc1/bias (DT_FLOAT) [128]\n",
      "triplet-net/fc1/bias/Momentum (DT_FLOAT) [128]\n",
      "triplet-net/fc1/kernel (DT_FLOAT) [32768,128]\n",
      "triplet-net/fc1/kernel/Momentum (DT_FLOAT) [32768,128]\n",
      "\n"
     ]
    }
   ],
   "source": [
    "print_tensors_in_checkpoint_file('./log/sem2/ckpt/triplet-net-0', tensor_name='', all_tensors=False)"
   ]
  },
  {
   "cell_type": "code",
   "execution_count": 4,
   "metadata": {},
   "outputs": [
    {
     "name": "stdout",
     "output_type": "stream",
     "text": [
      "Mean:  0.30739194\n",
      "Std:  0.21743536\n"
     ]
    }
   ],
   "source": [
    "# load mean, std for training dataset\n",
    "mean, std = pickle.load(open(os.path.join(log_dir, 'stats_sem.pkl'), 'rb'))\n",
    "print('Mean: ', mean)\n",
    "print('Std: ', std)"
   ]
  },
  {
   "cell_type": "code",
   "execution_count": 5,
   "metadata": {},
   "outputs": [
    {
     "name": "stdout",
     "output_type": "stream",
     "text": [
      "INFO:tensorflow:CNN: ftfy\n",
      "INFO:tensorflow:Restoring parameters from ./log/sem2/ckpt/triplet-net-20\n"
     ]
    }
   ],
   "source": [
    "# load network\n",
    "net = TripletNet(model_path, epoch, mean=mean, std=std)"
   ]
  },
  {
   "cell_type": "code",
   "execution_count": 6,
   "metadata": {},
   "outputs": [
    {
     "name": "stdout",
     "output_type": "stream",
     "text": [
      "feature dim:  (1, 128)\n"
     ]
    }
   ],
   "source": [
    "# basic: get features\n",
    "images = np.random.random((1, 128, 128, 1)).astype(np.float32)\n",
    "features = net.get_feature(images)\n",
    "print('feature dim: ', features.shape)"
   ]
  },
  {
   "cell_type": "code",
   "execution_count": 7,
   "metadata": {},
   "outputs": [
    {
     "name": "stdout",
     "output_type": "stream",
     "text": [
      "input   dim:  (1, 128, 128, 1)\n",
      "feature dim:  (1, 128)\n"
     ]
    }
   ],
   "source": [
    "# basic: get features + get input\n",
    "# input image doesn't need to be 128 x 128\n",
    "# internally, it will resize the image into 128 x 128\n",
    "images = np.random.random((1, 200, 200, 1)).astype(np.float32)\n",
    "features = net.get_feature(images)\n",
    "inIm = net.get_input(images)\n",
    "print('input   dim: ', inIm.shape)\n",
    "print('feature dim: ', features.shape)"
   ]
  },
  {
   "cell_type": "code",
   "execution_count": 8,
   "metadata": {},
   "outputs": [
    {
     "name": "stdout",
     "output_type": "stream",
     "text": [
      "conv-01: (1, 128, 128, 32)\n",
      "conv-02: (1, 64, 64, 64)\n",
      "conv-03: (1, 64, 64, 128)\n",
      "conv-04: (1, 64, 64, 64)\n",
      "conv-05: (1, 32, 32, 128)\n",
      "conv-06: (1, 32, 32, 256)\n",
      "conv-07: (1, 32, 32, 128)\n",
      "conv-08: (1, 16, 16, 256)\n",
      "conv-09: (1, 16, 16, 512)\n",
      "conv-10: (1, 16, 16, 256)\n",
      "conv-11: (1, 8, 8, 512)\n",
      "merged: (1, 8, 8, 3584)\n",
      "conv-12: (1, 8, 8, 1024)\n",
      "conv-13: (1, 8, 8, 512)\n",
      "fc: (1, 128)\n"
     ]
    }
   ],
   "source": [
    "# basic: get all tensors' outputs\n",
    "# Note that tensor outputs are extracted after activation layer \n",
    "# (and pooling layer if it is followed after the activation layer)\n",
    "# get_all_features returns list of dictionary where key is layer name and value is tensor output.\n",
    "images = np.random.random((1, 200, 200, 1)).astype(np.float32)\n",
    "outputs = net.get_all_features(images)\n",
    "\n",
    "outputs = outputs[0]\n",
    "for k, v in outputs.items():\n",
    "    print(\"{}: {}\".format(k, v.shape))\n"
   ]
  },
  {
   "cell_type": "code",
   "execution_count": null,
   "metadata": {},
   "outputs": [],
   "source": []
  }
 ],
 "metadata": {
  "kernelspec": {
   "display_name": "Python 3",
   "language": "python",
   "name": "python3"
  },
  "language_info": {
   "codemirror_mode": {
    "name": "ipython",
    "version": 3
   },
   "file_extension": ".py",
   "mimetype": "text/x-python",
   "name": "python",
   "nbconvert_exporter": "python",
   "pygments_lexer": "ipython3",
   "version": "3.6.7"
  }
 },
 "nbformat": 4,
 "nbformat_minor": 2
}
